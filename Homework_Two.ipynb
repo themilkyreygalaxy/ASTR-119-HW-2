{
 "cells": [
  {
   "cell_type": "code",
   "execution_count": null,
   "metadata": {},
   "outputs": [],
   "source": [
    "%matplotlib inline\n",
    "import numpy as np\n",
    "import matplotlib.pyplot as plt"
   ]
  },
  {
   "cell_type": "code",
   "execution_count": null,
   "metadata": {},
   "outputs": [],
   "source": [
    "x = np.linspace(0,2*np.pi,1000)\n",
    "#print (x[-1],2*np.pi) -- just to see if it makes sense\n",
    "y = (5.5*(np.cos(2*x)))+5.5\n",
    "z = 0.02*np.exp(x)\n",
    "w = 0.25 * (x**2) + 0.1*(np.sin(10*x))\n",
    "#print (y,z,w) -- just to see if it makes sense"
   ]
  },
  {
   "cell_type": "code",
   "execution_count": null,
   "metadata": {},
   "outputs": [],
   "source": [
    "fig = plt.figure(figsize=(6,6))\n",
    "\n",
    "plt.plot(x, y, label = 'y = (5.5 * cos(2*x)) + 5.5 ')\n",
    "plt.plot(x, z, label = 'y = 0.02 * exp(x)')\n",
    "plt.plot(x, w, label = 'y = (0.25 * (x^2)) + (0.1 * sin(10*x))')\n",
    "\n",
    "plt.xlabel('Time in ASTR/EART 119')\n",
    "plt.ylabel('Measures of Awesomeness')\n",
    "plt.xlim ([0,2*np.pi])\n",
    "plt.ylim ([-1,10])\n",
    "plt.legend (loc=1, framealpha=0.95)"
   ]
  }
 ],
 "metadata": {
  "kernelspec": {
   "display_name": "Python 3",
   "language": "python",
   "name": "python3"
  },
  "language_info": {
   "codemirror_mode": {
    "name": "ipython",
    "version": 3
   },
   "file_extension": ".py",
   "mimetype": "text/x-python",
   "name": "python",
   "nbconvert_exporter": "python",
   "pygments_lexer": "ipython3",
   "version": "3.6.5"
  }
 },
 "nbformat": 4,
 "nbformat_minor": 2
}
